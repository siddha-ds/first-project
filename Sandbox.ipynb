{
 "cells": [
  {
   "cell_type": "code",
   "execution_count": 1,
   "id": "5215bc9b-8289-4d47-940d-0c0841395e43",
   "metadata": {},
   "outputs": [],
   "source": [
    "%config IPCompleter.greedy=True"
   ]
  },
  {
   "cell_type": "code",
   "execution_count": null,
   "id": "879090b1-4adf-47d1-8b83-6ffa09669e9a",
   "metadata": {},
   "outputs": [],
   "source": [
    "import pandas as pd"
   ]
  },
  {
   "cell_type": "code",
   "execution_count": 1,
   "id": "e8de023c-261b-4fd8-9967-f7eff1ef5a48",
   "metadata": {},
   "outputs": [],
   "source": [
    "ass = 1"
   ]
  },
  {
   "cell_type": "code",
   "execution_count": 2,
   "id": "c62173a0-fd46-4b6d-9f83-936bbde7b5aa",
   "metadata": {},
   "outputs": [],
   "source": [
    "bass = 1"
   ]
  },
  {
   "cell_type": "code",
   "execution_count": 3,
   "id": "3c0c6a72-2565-4a51-b7b7-a418bfd91498",
   "metadata": {},
   "outputs": [],
   "source": [
    "gass = 1"
   ]
  },
  {
   "cell_type": "code",
   "execution_count": null,
   "id": "1646bcb4-5eba-4fbd-b9cd-ee25ecd3649e",
   "metadata": {},
   "outputs": [],
   "source": []
  }
 ],
 "metadata": {
  "kernelspec": {
   "display_name": "Python 3 (ipykernel)",
   "language": "python",
   "name": "python3"
  },
  "language_info": {
   "codemirror_mode": {
    "name": "ipython",
    "version": 3
   },
   "file_extension": ".py",
   "mimetype": "text/x-python",
   "name": "python",
   "nbconvert_exporter": "python",
   "pygments_lexer": "ipython3",
   "version": "3.9.19"
  }
 },
 "nbformat": 4,
 "nbformat_minor": 5
}
